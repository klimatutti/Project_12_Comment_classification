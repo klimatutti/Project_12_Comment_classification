{
 "cells": [
  {
   "cell_type": "markdown",
   "metadata": {},
   "source": [
    "# Проект для «Викишоп»"
   ]
  },
  {
   "cell_type": "markdown",
   "metadata": {},
   "source": [
    "Интернет-магазин «Викишоп» запускает новый сервис. Теперь пользователи могут редактировать и дополнять описания товаров, как в вики-сообществах. То есть клиенты предлагают свои правки и комментируют изменения других. Магазину нужен инструмент, который будет искать токсичные комментарии и отправлять их на модерацию. \n",
    "\n",
    "Обучите модель классифицировать комментарии на позитивные и негативные. В вашем распоряжении набор данных с разметкой о токсичности правок.\n"
   ]
  },
  {
   "cell_type": "markdown",
   "metadata": {},
   "source": [
    "Для начала загрузим и изучим данные: рассмотрим дубликаты, пропуски, разберемся с регистром и лишними знаками в тектах и избавимся от стоп-слов. Далее приступим к разделу обучения: разделим данные на выборки, проведем TF-IDF векторизацию, обучим модели, подбирая различные параметры и вычисляя метрику F1."
   ]
  },
  {
   "cell_type": "markdown",
   "metadata": {},
   "source": [
    "## Подготовка"
   ]
  },
  {
   "cell_type": "code",
   "execution_count": 1,
   "metadata": {},
   "outputs": [],
   "source": [
    "import pandas as pd\n",
    "import nltk\n",
    "from nltk.corpus import stopwords as nltk_stopwords\n",
    "from sklearn.feature_extraction.text import TfidfVectorizer, CountVectorizer\n",
    "from sklearn.linear_model import LogisticRegression\n",
    "import re\n",
    "from pymystem3 import Mystem\n",
    "from sklearn.pipeline import Pipeline\n",
    "from sklearn import metrics\n",
    "from sklearn.metrics import f1_score\n",
    "from sklearn.ensemble import RandomForestClassifier\n",
    "from sklearn.model_selection import GridSearchCV\n",
    "from sklearn.model_selection import train_test_split\n",
    "from sklearn.metrics import roc_curve\n",
    "from sklearn.metrics import roc_auc_score\n",
    "from sklearn.tree import DecisionTreeClassifier\n",
    "from sklearn.linear_model import SGDClassifier\n",
    "import matplotlib.pyplot as plt\n",
    "import warnings\n",
    "warnings.filterwarnings('ignore')"
   ]
  },
  {
   "cell_type": "code",
   "execution_count": 2,
   "metadata": {},
   "outputs": [],
   "source": [
    "try:\n",
    "    data = pd.read_csv('/datasets/toxic_comments.csv')\n",
    "except:\n",
    "    data = pd.read_csv('C:/Downloads/toxic_comments.csv')"
   ]
  },
  {
   "cell_type": "code",
   "execution_count": 3,
   "metadata": {},
   "outputs": [
    {
     "name": "stdout",
     "output_type": "stream",
     "text": [
      "<class 'pandas.core.frame.DataFrame'>\n",
      "RangeIndex: 159292 entries, 0 to 159291\n",
      "Data columns (total 3 columns):\n",
      " #   Column      Non-Null Count   Dtype \n",
      "---  ------      --------------   ----- \n",
      " 0   Unnamed: 0  159292 non-null  int64 \n",
      " 1   text        159292 non-null  object\n",
      " 2   toxic       159292 non-null  int64 \n",
      "dtypes: int64(2), object(1)\n",
      "memory usage: 3.6+ MB\n"
     ]
    }
   ],
   "source": [
    "data.info()"
   ]
  },
  {
   "cell_type": "markdown",
   "metadata": {},
   "source": [
    "Пропусков не наблюдается, видим непонятный стобец `Unnamed: 0`."
   ]
  },
  {
   "cell_type": "code",
   "execution_count": 4,
   "metadata": {},
   "outputs": [
    {
     "data": {
      "text/html": [
       "<div>\n",
       "<style scoped>\n",
       "    .dataframe tbody tr th:only-of-type {\n",
       "        vertical-align: middle;\n",
       "    }\n",
       "\n",
       "    .dataframe tbody tr th {\n",
       "        vertical-align: top;\n",
       "    }\n",
       "\n",
       "    .dataframe thead th {\n",
       "        text-align: right;\n",
       "    }\n",
       "</style>\n",
       "<table border=\"1\" class=\"dataframe\">\n",
       "  <thead>\n",
       "    <tr style=\"text-align: right;\">\n",
       "      <th></th>\n",
       "      <th>Unnamed: 0</th>\n",
       "      <th>text</th>\n",
       "      <th>toxic</th>\n",
       "    </tr>\n",
       "  </thead>\n",
       "  <tbody>\n",
       "    <tr>\n",
       "      <th>0</th>\n",
       "      <td>0</td>\n",
       "      <td>Explanation\\nWhy the edits made under my usern...</td>\n",
       "      <td>0</td>\n",
       "    </tr>\n",
       "    <tr>\n",
       "      <th>1</th>\n",
       "      <td>1</td>\n",
       "      <td>D'aww! He matches this background colour I'm s...</td>\n",
       "      <td>0</td>\n",
       "    </tr>\n",
       "    <tr>\n",
       "      <th>2</th>\n",
       "      <td>2</td>\n",
       "      <td>Hey man, I'm really not trying to edit war. It...</td>\n",
       "      <td>0</td>\n",
       "    </tr>\n",
       "    <tr>\n",
       "      <th>3</th>\n",
       "      <td>3</td>\n",
       "      <td>\"\\nMore\\nI can't make any real suggestions on ...</td>\n",
       "      <td>0</td>\n",
       "    </tr>\n",
       "    <tr>\n",
       "      <th>4</th>\n",
       "      <td>4</td>\n",
       "      <td>You, sir, are my hero. Any chance you remember...</td>\n",
       "      <td>0</td>\n",
       "    </tr>\n",
       "  </tbody>\n",
       "</table>\n",
       "</div>"
      ],
      "text/plain": [
       "   Unnamed: 0                                               text  toxic\n",
       "0           0  Explanation\\nWhy the edits made under my usern...      0\n",
       "1           1  D'aww! He matches this background colour I'm s...      0\n",
       "2           2  Hey man, I'm really not trying to edit war. It...      0\n",
       "3           3  \"\\nMore\\nI can't make any real suggestions on ...      0\n",
       "4           4  You, sir, are my hero. Any chance you remember...      0"
      ]
     },
     "execution_count": 4,
     "metadata": {},
     "output_type": "execute_result"
    }
   ],
   "source": [
    "data.head()"
   ]
  },
  {
   "cell_type": "markdown",
   "metadata": {},
   "source": [
    "Удалим этот столбец"
   ]
  },
  {
   "cell_type": "code",
   "execution_count": 5,
   "metadata": {},
   "outputs": [],
   "source": [
    "data = data.drop('Unnamed: 0', axis=1)"
   ]
  },
  {
   "cell_type": "code",
   "execution_count": 6,
   "metadata": {},
   "outputs": [
    {
     "name": "stdout",
     "output_type": "stream",
     "text": [
      "<class 'pandas.core.frame.DataFrame'>\n",
      "RangeIndex: 159292 entries, 0 to 159291\n",
      "Data columns (total 2 columns):\n",
      " #   Column  Non-Null Count   Dtype \n",
      "---  ------  --------------   ----- \n",
      " 0   text    159292 non-null  object\n",
      " 1   toxic   159292 non-null  int64 \n",
      "dtypes: int64(1), object(1)\n",
      "memory usage: 2.4+ MB\n"
     ]
    }
   ],
   "source": [
    "data.info()"
   ]
  },
  {
   "cell_type": "markdown",
   "metadata": {},
   "source": [
    "Рассмотрим дубликаты"
   ]
  },
  {
   "cell_type": "code",
   "execution_count": 7,
   "metadata": {},
   "outputs": [
    {
     "data": {
      "text/plain": [
       "0"
      ]
     },
     "execution_count": 7,
     "metadata": {},
     "output_type": "execute_result"
    }
   ],
   "source": [
    "data.duplicated().sum()"
   ]
  },
  {
   "cell_type": "markdown",
   "metadata": {},
   "source": [
    "И еще раз перепроверим пропуски"
   ]
  },
  {
   "cell_type": "code",
   "execution_count": 8,
   "metadata": {},
   "outputs": [
    {
     "data": {
      "text/plain": [
       "text     0\n",
       "toxic    0\n",
       "dtype: int64"
      ]
     },
     "execution_count": 8,
     "metadata": {},
     "output_type": "execute_result"
    }
   ],
   "source": [
    "data.isna().sum()"
   ]
  },
  {
   "cell_type": "markdown",
   "metadata": {},
   "source": [
    "Рассмотрим подробнее текста"
   ]
  },
  {
   "cell_type": "code",
   "execution_count": 9,
   "metadata": {},
   "outputs": [
    {
     "data": {
      "text/plain": [
       "0         Explanation\\nWhy the edits made under my usern...\n",
       "1         D'aww! He matches this background colour I'm s...\n",
       "2         Hey man, I'm really not trying to edit war. It...\n",
       "3         \"\\nMore\\nI can't make any real suggestions on ...\n",
       "4         You, sir, are my hero. Any chance you remember...\n",
       "                                ...                        \n",
       "159287    \":::::And for the second time of asking, when ...\n",
       "159288    You should be ashamed of yourself \\n\\nThat is ...\n",
       "159289    Spitzer \\n\\nUmm, theres no actual article for ...\n",
       "159290    And it looks like it was actually you who put ...\n",
       "159291    \"\\nAnd ... I really don't think you understand...\n",
       "Name: text, Length: 159292, dtype: object"
      ]
     },
     "execution_count": 9,
     "metadata": {},
     "output_type": "execute_result"
    }
   ],
   "source": [
    "data.text"
   ]
  },
  {
   "cell_type": "markdown",
   "metadata": {},
   "source": [
    "Видим лишние знаки, различный регистр. Применим регулярные выражения для избаления от этого."
   ]
  },
  {
   "cell_type": "code",
   "execution_count": 10,
   "metadata": {},
   "outputs": [],
   "source": [
    "def cleaning(text):\n",
    "    text = re.sub(r\"(?:\\n|\\r)\", \" \", text)\n",
    "    text = re.sub(r\"[^a-zA-Z ]+\", \"\", text).strip()\n",
    "    text = text.lower()\n",
    "    return text\n",
    "\n",
    "data['text'] = data['text'].apply(cleaning)"
   ]
  },
  {
   "cell_type": "code",
   "execution_count": 11,
   "metadata": {},
   "outputs": [
    {
     "data": {
      "text/plain": [
       "0         explanation why the edits made under my userna...\n",
       "1         daww he matches this background colour im seem...\n",
       "2         hey man im really not trying to edit war its j...\n",
       "3         more i cant make any real suggestions on impro...\n",
       "4         you sir are my hero any chance you remember wh...\n",
       "                                ...                        \n",
       "159287    and for the second time of asking when your vi...\n",
       "159288    you should be ashamed of yourself   that is a ...\n",
       "159289    spitzer   umm theres no actual article for pro...\n",
       "159290    and it looks like it was actually you who put ...\n",
       "159291    and  i really dont think you understand  i cam...\n",
       "Name: text, Length: 159292, dtype: object"
      ]
     },
     "execution_count": 11,
     "metadata": {},
     "output_type": "execute_result"
    }
   ],
   "source": [
    "data.text"
   ]
  },
  {
   "cell_type": "markdown",
   "metadata": {},
   "source": [
    "Проведем лемматизацию текстов"
   ]
  },
  {
   "cell_type": "code",
   "execution_count": 12,
   "metadata": {},
   "outputs": [],
   "source": [
    "corpus = list(data['text'])"
   ]
  },
  {
   "cell_type": "code",
   "execution_count": 13,
   "metadata": {},
   "outputs": [
    {
     "name": "stderr",
     "output_type": "stream",
     "text": [
      "[nltk_data] Downloading package wordnet to /home/jovyan/nltk_data...\n",
      "[nltk_data]   Package wordnet is already up-to-date!\n"
     ]
    },
    {
     "data": {
      "text/plain": [
       "True"
      ]
     },
     "execution_count": 13,
     "metadata": {},
     "output_type": "execute_result"
    }
   ],
   "source": [
    "nltk.download('wordnet')"
   ]
  },
  {
   "cell_type": "code",
   "execution_count": 14,
   "metadata": {},
   "outputs": [
    {
     "name": "stderr",
     "output_type": "stream",
     "text": [
      "[nltk_data] Downloading package averaged_perceptron_tagger to\n",
      "[nltk_data]     /home/jovyan/nltk_data...\n",
      "[nltk_data]   Unzipping taggers/averaged_perceptron_tagger.zip.\n"
     ]
    },
    {
     "data": {
      "text/plain": [
       "True"
      ]
     },
     "execution_count": 14,
     "metadata": {},
     "output_type": "execute_result"
    }
   ],
   "source": [
    "nltk.download('averaged_perceptron_tagger')"
   ]
  },
  {
   "cell_type": "code",
   "execution_count": 15,
   "metadata": {},
   "outputs": [],
   "source": [
    "from nltk.stem import WordNetLemmatizer\n",
    "lemmatizer = WordNetLemmatizer()"
   ]
  },
  {
   "cell_type": "code",
   "execution_count": 16,
   "metadata": {},
   "outputs": [],
   "source": [
    "from nltk.corpus import wordnet\n",
    "def get_wordnet_pos(word):\n",
    "    tag = nltk.pos_tag([word])[0][1][0].upper()\n",
    "    tag_dict = {\"J\": wordnet.ADJ,\n",
    "                \"N\": wordnet.NOUN,\n",
    "                \"V\": wordnet.VERB,\n",
    "                \"R\": wordnet.ADV}\n",
    "    return tag_dict.get(tag, wordnet.NOUN)"
   ]
  },
  {
   "cell_type": "code",
   "execution_count": 19,
   "metadata": {},
   "outputs": [],
   "source": [
    "from tqdm.notebook import tqdm"
   ]
  },
  {
   "cell_type": "code",
   "execution_count": 20,
   "metadata": {},
   "outputs": [
    {
     "data": {
      "application/vnd.jupyter.widget-view+json": {
       "model_id": "2da000d0e71e4d8f8eeedb1e853f1a24",
       "version_major": 2,
       "version_minor": 0
      },
      "text/plain": [
       "  0%|          | 0/159292 [00:00<?, ?it/s]"
      ]
     },
     "metadata": {},
     "output_type": "display_data"
    },
    {
     "name": "stdout",
     "output_type": "stream",
     "text": [
      "CPU times: user 15min 17s, sys: 1min 32s, total: 16min 50s\n",
      "Wall time: 17min 12s\n"
     ]
    }
   ],
   "source": [
    "%%time\n",
    "def lemmafunction(textc):\n",
    "    k=[]\n",
    "    for i in nltk.word_tokenize(textc):\n",
    "        y=lemmatizer.lemmatize(i, get_wordnet_pos(i))\n",
    "        k.append(y)\n",
    "    return ' '.join(k) \n",
    "\n",
    "lemy=[]\n",
    "for i in tqdm(range(len(corpus))):\n",
    "    \n",
    "    lemy.append(lemmafunction(corpus[i]))\n",
    "data['lemm_text']=pd.Series(lemy, index=data.index)"
   ]
  },
  {
   "cell_type": "code",
   "execution_count": 25,
   "metadata": {},
   "outputs": [
    {
     "data": {
      "text/plain": [
       "'congratulations from me as well use the tools well  talk'"
      ]
     },
     "execution_count": 25,
     "metadata": {},
     "output_type": "execute_result"
    }
   ],
   "source": [
    "data['text'][5]"
   ]
  },
  {
   "cell_type": "code",
   "execution_count": 26,
   "metadata": {},
   "outputs": [
    {
     "data": {
      "text/plain": [
       "'congratulation from me a well use the tool well talk'"
      ]
     },
     "execution_count": 26,
     "metadata": {},
     "output_type": "execute_result"
    }
   ],
   "source": [
    "data['lemm_text'][5]"
   ]
  },
  {
   "cell_type": "markdown",
   "metadata": {},
   "source": [
    "Избавимся от стоп-слов"
   ]
  },
  {
   "cell_type": "code",
   "execution_count": 27,
   "metadata": {},
   "outputs": [],
   "source": [
    "stopwords = set(nltk_stopwords.words('english'))"
   ]
  },
  {
   "cell_type": "markdown",
   "metadata": {},
   "source": [
    "### Вывод\n",
    "\n",
    "В данном разделе были загружены и изучены данные. В данных не обнаружилось дубликатов и пропусков. Были удалены лишние столбцы, знаки в текстах, а также исправлен регистр букв. Проведена лемматизация текстов и избавление от стоп-слов."
   ]
  },
  {
   "cell_type": "markdown",
   "metadata": {},
   "source": [
    "## Обучение"
   ]
  },
  {
   "cell_type": "markdown",
   "metadata": {},
   "source": [
    "Разделим данные на обущающую и тестовую выборки. Целевой признак - `toxic`"
   ]
  },
  {
   "cell_type": "code",
   "execution_count": 28,
   "metadata": {},
   "outputs": [],
   "source": [
    "train, test = train_test_split(data, shuffle=False, test_size=0.1)\n",
    "\n",
    "features_train = train['text']\n",
    "target_train = train['toxic']\n",
    "features_test = test['text']\n",
    "target_test = test['toxic']"
   ]
  },
  {
   "cell_type": "code",
   "execution_count": 29,
   "metadata": {},
   "outputs": [
    {
     "name": "stdout",
     "output_type": "stream",
     "text": [
      "(143362,)\n",
      "(15930,)\n",
      "(143362,)\n",
      "(15930,)\n"
     ]
    }
   ],
   "source": [
    "print(features_train.shape)\n",
    "print(features_test.shape)\n",
    "print(target_train.shape)\n",
    "print(target_test.shape)"
   ]
  },
  {
   "cell_type": "markdown",
   "metadata": {},
   "source": [
    "Проведем TF-IDF векторизацию"
   ]
  },
  {
   "cell_type": "code",
   "execution_count": 30,
   "metadata": {},
   "outputs": [],
   "source": [
    "count_tf_idf = TfidfVectorizer(stop_words=stopwords)\n",
    "tfidf_train = count_tf_idf.fit_transform(features_train)\n",
    "tfidf_test = count_tf_idf.transform(features_test)"
   ]
  },
  {
   "cell_type": "markdown",
   "metadata": {},
   "source": [
    "**Логистическая регрессия**"
   ]
  },
  {
   "cell_type": "code",
   "execution_count": 31,
   "metadata": {},
   "outputs": [
    {
     "data": {
      "text/plain": [
       "GridSearchCV(cv=3, estimator=LogisticRegression(random_state=12345),\n",
       "             param_grid={'class_weight': ['balanced'], 'penalty': ['l1', 'l2'],\n",
       "                         'solver': ['liblinear']},\n",
       "             scoring='f1')"
      ]
     },
     "execution_count": 31,
     "metadata": {},
     "output_type": "execute_result"
    }
   ],
   "source": [
    "param = {'penalty': ['l1', 'l2'], 'solver': ['liblinear'], 'class_weight': ['balanced']}\n",
    "model_lr = LogisticRegression(random_state=12345)\n",
    "tuning_model_lr=GridSearchCV(model_lr, param, scoring='f1', cv=3)\n",
    "tuning_model_lr.fit(tfidf_train, target_train)"
   ]
  },
  {
   "cell_type": "code",
   "execution_count": 32,
   "metadata": {},
   "outputs": [
    {
     "name": "stdout",
     "output_type": "stream",
     "text": [
      "{'class_weight': 'balanced', 'penalty': 'l1', 'solver': 'liblinear'}\n",
      "0.7507237626937459\n"
     ]
    }
   ],
   "source": [
    "lr_param = tuning_model_lr.best_params_\n",
    "lr_score = tuning_model_lr.best_score_\n",
    "print(lr_param)\n",
    "print(lr_score)"
   ]
  },
  {
   "cell_type": "markdown",
   "metadata": {},
   "source": [
    "**Случаный лес**"
   ]
  },
  {
   "cell_type": "code",
   "execution_count": 33,
   "metadata": {},
   "outputs": [
    {
     "data": {
      "text/plain": [
       "GridSearchCV(cv=3, estimator=RandomForestClassifier(random_state=12345),\n",
       "             param_grid={'max_depth': [5, 15],\n",
       "                         'n_estimators': [50, 100, 150, 200, 250]},\n",
       "             scoring='f1')"
      ]
     },
     "execution_count": 33,
     "metadata": {},
     "output_type": "execute_result"
    }
   ],
   "source": [
    "param = {'n_estimators': list(range(50,300,50)), 'max_depth':[5,15]}\n",
    "model_rf = RandomForestClassifier(random_state=12345)\n",
    "tuning_model_rf=GridSearchCV(model_rf, param, scoring='f1', cv=3)\n",
    "tuning_model_rf.fit(tfidf_train, target_train)"
   ]
  },
  {
   "cell_type": "code",
   "execution_count": 34,
   "metadata": {},
   "outputs": [
    {
     "name": "stdout",
     "output_type": "stream",
     "text": [
      "{'max_depth': 15, 'n_estimators': 100}\n",
      "0.0001374287088572803\n"
     ]
    }
   ],
   "source": [
    "rf_param = tuning_model_rf.best_params_\n",
    "rf_score = tuning_model_rf.best_score_\n",
    "print(rf_param)\n",
    "print(rf_score)"
   ]
  },
  {
   "cell_type": "markdown",
   "metadata": {},
   "source": [
    "**Дерево решений**"
   ]
  },
  {
   "cell_type": "code",
   "execution_count": 35,
   "metadata": {},
   "outputs": [
    {
     "data": {
      "text/plain": [
       "GridSearchCV(cv=3, estimator=DecisionTreeClassifier(random_state=12345),\n",
       "             param_grid={'class_weight': ['balanced'],\n",
       "                         'max_depth': [30, 32, 34, 36, 38, 40, 42, 44, 46, 48,\n",
       "                                       50]},\n",
       "             scoring='f1')"
      ]
     },
     "execution_count": 35,
     "metadata": {},
     "output_type": "execute_result"
    }
   ],
   "source": [
    "param = {'max_depth': list(range(30,51,2)), 'class_weight':['balanced']}\n",
    "model_dt = DecisionTreeClassifier(random_state=12345)\n",
    "tuning_model_dt=GridSearchCV(model_dt, param, scoring='f1', cv=3)\n",
    "tuning_model_dt.fit(tfidf_train, target_train)"
   ]
  },
  {
   "cell_type": "code",
   "execution_count": 36,
   "metadata": {},
   "outputs": [
    {
     "name": "stdout",
     "output_type": "stream",
     "text": [
      "{'class_weight': 'balanced', 'max_depth': 50}\n",
      "0.6169844099768603\n"
     ]
    }
   ],
   "source": [
    "dt_param = tuning_model_dt.best_params_\n",
    "dt_score = tuning_model_dt.best_score_\n",
    "print(dt_param)\n",
    "print(dt_score)"
   ]
  },
  {
   "cell_type": "markdown",
   "metadata": {},
   "source": [
    "**SGDCClassifier**"
   ]
  },
  {
   "cell_type": "code",
   "execution_count": 37,
   "metadata": {},
   "outputs": [
    {
     "data": {
      "text/plain": [
       "GridSearchCV(cv=3, estimator=SGDClassifier(random_state=12345),\n",
       "             param_grid={'class_weight': ['balanced'],\n",
       "                         'eta0': [0.01, 0.05, 0.1, 0.2, 0.3, 0.5],\n",
       "                         'learning_rate': ['constant', 'optimal', 'invscaling',\n",
       "                                           'adaptive'],\n",
       "                         'loss': ['hinge', 'log', 'modified_huber']},\n",
       "             scoring='f1')"
      ]
     },
     "execution_count": 37,
     "metadata": {},
     "output_type": "execute_result"
    }
   ],
   "source": [
    "param = {'loss':['hinge', 'log', 'modified_huber'], 'learning_rate':['constant', 'optimal', 'invscaling', 'adaptive'],\n",
    "                'eta0':[0.01, 0.05, 0.1, 0.2, 0.3, 0.5], 'class_weight':['balanced']}\n",
    "model_sgd = SGDClassifier(random_state=12345)\n",
    "tuning_model_sgd=GridSearchCV(model_sgd, param, scoring='f1', cv=3)\n",
    "tuning_model_sgd.fit(tfidf_train, target_train)"
   ]
  },
  {
   "cell_type": "code",
   "execution_count": 38,
   "metadata": {},
   "outputs": [
    {
     "name": "stdout",
     "output_type": "stream",
     "text": [
      "{'class_weight': 'balanced', 'eta0': 0.05, 'learning_rate': 'adaptive', 'loss': 'modified_huber'}\n",
      "0.754209645528686\n"
     ]
    }
   ],
   "source": [
    "sgd_param = tuning_model_sgd.best_params_\n",
    "sgd_score = tuning_model_sgd.best_score_\n",
    "print(sgd_param)\n",
    "print(sgd_score)"
   ]
  },
  {
   "cell_type": "markdown",
   "metadata": {},
   "source": [
    "## Выводы"
   ]
  },
  {
   "cell_type": "markdown",
   "metadata": {},
   "source": [
    "Лучшей моделью по метрике F1 оказалась SGDCClassifer со значением F1 = 0.754. \n",
    "\n",
    "Проведем тестирование лучшей модели."
   ]
  },
  {
   "cell_type": "code",
   "execution_count": 54,
   "metadata": {},
   "outputs": [
    {
     "data": {
      "text/plain": [
       "0.7566550147889218"
      ]
     },
     "execution_count": 54,
     "metadata": {},
     "output_type": "execute_result"
    }
   ],
   "source": [
    "model = SGDClassifier(random_state=12345, class_weight='balanced', eta0=0.05, learning_rate='adaptive', loss='modified_huber')\n",
    "model.fit(tfidf_train, target_train)\n",
    "prediction = model.predict(tfidf_test)\n",
    "f1_score(target_test, prediction)"
   ]
  },
  {
   "cell_type": "markdown",
   "metadata": {},
   "source": [
    "Также рассчитаем метрику AUC-score и построим ROC-кривую."
   ]
  },
  {
   "cell_type": "code",
   "execution_count": 49,
   "metadata": {},
   "outputs": [],
   "source": [
    "def plot_roc_curve(fpr, tpr):\n",
    "    plt.figure(figsize=[15,9])\n",
    "    plt.plot(fpr, tpr, color='orange', label='ROC')\n",
    "    plt.plot([0, 1], [0, 1], color='darkblue', linestyle='--')\n",
    "    plt.xlabel('False Positive Rate')\n",
    "    plt.ylabel('True Positive Rate')\n",
    "    plt.title('Receiver Operating Characteristic (ROC) Curve')\n",
    "    plt.legend()\n",
    "    plt.show()"
   ]
  },
  {
   "cell_type": "code",
   "execution_count": 55,
   "metadata": {},
   "outputs": [],
   "source": [
    "pred = model.predict_proba(tfidf_test)"
   ]
  },
  {
   "cell_type": "code",
   "execution_count": 56,
   "metadata": {},
   "outputs": [
    {
     "name": "stdout",
     "output_type": "stream",
     "text": [
      "AUC: 0.97\n"
     ]
    }
   ],
   "source": [
    "auc = roc_auc_score(target_test, pred[:,1])\n",
    "print('AUC: %.2f' % auc)"
   ]
  },
  {
   "cell_type": "code",
   "execution_count": 57,
   "metadata": {},
   "outputs": [],
   "source": [
    "fpr, tpr, thresholds = roc_curve(target_test, pred[:,1])"
   ]
  },
  {
   "cell_type": "code",
   "execution_count": 58,
   "metadata": {},
   "outputs": [
    {
     "data": {
      "image/png": "[encoded data removed]",
      "text/plain": [
       "<Figure size 1080x648 with 1 Axes>"
      ]
     },
     "metadata": {
      "needs_background": "light"
     },
     "output_type": "display_data"
    }
   ],
   "source": [
    "plot_roc_curve(fpr, tpr)"
   ]
  },
  {
   "cell_type": "markdown",
   "metadata": {},
   "source": [
    "Для данного проекта были получены данные с разметкой о токсичности правок. Необходимо было обучите модель классифицировать комментарии на позитивные и негативныес метрикой F1 не меньше 0.75.\n",
    "\n",
    "На первом этапе были загружены данные, проверены дубликаты и пропуски, текст в данных был переведен в одинаковый регистр, лишние знаки были удалены, проведена лемматизация текста, а также были удалены стоп-слова.\n",
    "\n",
    "На втором этапе были проверены 4 модели с подобранными гиперпараметрами: Логистическая регрессия, Случайный лес, Дерево решений и SGDClassifier. Лучшей моделью оказалась SGDClassifier со значением F1 на тесте 0.757"
   ]
  }
 ],
 "metadata": {
  "ExecuteTimeLog": [
   {
    "duration": 2285,
    "start_time": "2023-05-16T11:31:12.054Z"
   },
   {
    "duration": 165,
    "start_time": "2023-05-16T11:31:38.294Z"
   },
   {
    "duration": 2330,
    "start_time": "2023-05-16T11:32:07.296Z"
   },
   {
    "duration": 838,
    "start_time": "2023-05-16T11:32:57.318Z"
   },
   {
    "duration": 33,
    "start_time": "2023-05-16T11:33:05.864Z"
   },
   {
    "duration": 13,
    "start_time": "2023-05-16T11:33:13.259Z"
   },
   {
    "duration": 34,
    "start_time": "2023-05-16T11:33:54.529Z"
   },
   {
    "duration": 12,
    "start_time": "2023-05-16T11:34:01.557Z"
   },
   {
    "duration": 88,
    "start_time": "2023-05-16T11:34:08.522Z"
   },
   {
    "duration": 31,
    "start_time": "2023-05-16T11:34:12.394Z"
   },
   {
    "duration": 230,
    "start_time": "2023-05-16T11:34:44.458Z"
   },
   {
    "duration": 10,
    "start_time": "2023-05-16T11:35:00.418Z"
   },
   {
    "duration": 218,
    "start_time": "2023-05-16T11:35:04.900Z"
   },
   {
    "duration": 200,
    "start_time": "2023-05-16T11:35:11.155Z"
   },
   {
    "duration": 35,
    "start_time": "2023-05-16T11:35:22.510Z"
   },
   {
    "duration": 6,
    "start_time": "2023-05-16T11:36:41.963Z"
   },
   {
    "duration": 290,
    "start_time": "2023-05-16T11:37:34.666Z"
   },
   {
    "duration": 2,
    "start_time": "2023-05-16T11:37:45.486Z"
   },
   {
    "duration": 2719,
    "start_time": "2023-05-16T11:37:46.022Z"
   },
   {
    "duration": 6,
    "start_time": "2023-05-16T11:38:04.053Z"
   },
   {
    "duration": 1362,
    "start_time": "2023-05-17T04:51:07.977Z"
   },
   {
    "duration": 2978,
    "start_time": "2023-05-17T04:51:09.933Z"
   },
   {
    "duration": 35,
    "start_time": "2023-05-17T04:51:13.476Z"
   },
   {
    "duration": 15,
    "start_time": "2023-05-17T04:51:14.334Z"
   },
   {
    "duration": 10,
    "start_time": "2023-05-17T04:51:14.919Z"
   },
   {
    "duration": 26,
    "start_time": "2023-05-17T04:51:17.053Z"
   },
   {
    "duration": 255,
    "start_time": "2023-05-17T04:51:17.766Z"
   },
   {
    "duration": 20,
    "start_time": "2023-05-17T04:51:18.621Z"
   },
   {
    "duration": 17,
    "start_time": "2023-05-17T04:51:19.380Z"
   },
   {
    "duration": 2733,
    "start_time": "2023-05-17T04:51:24.925Z"
   },
   {
    "duration": 6,
    "start_time": "2023-05-17T04:51:29.757Z"
   },
   {
    "duration": 2395,
    "start_time": "2023-05-17T04:51:41.524Z"
   },
   {
    "duration": 66,
    "start_time": "2023-05-17T04:53:54.770Z"
   },
   {
    "duration": 1249,
    "start_time": "2023-05-17T04:53:59.955Z"
   },
   {
    "duration": 2798,
    "start_time": "2023-05-17T04:54:01.921Z"
   },
   {
    "duration": 30,
    "start_time": "2023-05-17T04:54:05.319Z"
   },
   {
    "duration": 18,
    "start_time": "2023-05-17T04:54:06.145Z"
   },
   {
    "duration": 13,
    "start_time": "2023-05-17T04:54:06.706Z"
   },
   {
    "duration": 30,
    "start_time": "2023-05-17T04:54:08.034Z"
   },
   {
    "duration": 237,
    "start_time": "2023-05-17T04:54:08.538Z"
   },
   {
    "duration": 21,
    "start_time": "2023-05-17T04:54:08.945Z"
   },
   {
    "duration": 5,
    "start_time": "2023-05-17T04:54:09.513Z"
   },
   {
    "duration": 2549,
    "start_time": "2023-05-17T04:54:10.666Z"
   },
   {
    "duration": 6,
    "start_time": "2023-05-17T04:54:13.217Z"
   },
   {
    "duration": 2401,
    "start_time": "2023-05-17T04:54:15.474Z"
   },
   {
    "duration": 1372,
    "start_time": "2023-05-17T04:55:27.377Z"
   },
   {
    "duration": 3110,
    "start_time": "2023-05-17T04:55:29.639Z"
   },
   {
    "duration": 27,
    "start_time": "2023-05-17T04:55:34.847Z"
   },
   {
    "duration": 16,
    "start_time": "2023-05-17T04:55:35.416Z"
   },
   {
    "duration": 12,
    "start_time": "2023-05-17T04:55:35.913Z"
   },
   {
    "duration": 25,
    "start_time": "2023-05-17T04:55:37.159Z"
   },
   {
    "duration": 251,
    "start_time": "2023-05-17T04:55:37.655Z"
   },
   {
    "duration": 24,
    "start_time": "2023-05-17T04:55:38.120Z"
   },
   {
    "duration": 5,
    "start_time": "2023-05-17T04:55:39.311Z"
   },
   {
    "duration": 2749,
    "start_time": "2023-05-17T04:55:40.679Z"
   },
   {
    "duration": 7,
    "start_time": "2023-05-17T04:55:44.338Z"
   },
   {
    "duration": 2361,
    "start_time": "2023-05-17T04:55:46.310Z"
   },
   {
    "duration": 4,
    "start_time": "2023-05-17T04:56:11.575Z"
   },
   {
    "duration": 38,
    "start_time": "2023-05-17T05:02:44.703Z"
   },
   {
    "duration": 3,
    "start_time": "2023-05-17T05:03:01.245Z"
   },
   {
    "duration": 6624,
    "start_time": "2023-05-17T05:05:31.818Z"
   },
   {
    "duration": 7949,
    "start_time": "2023-05-17T05:05:48.426Z"
   },
   {
    "duration": 1870,
    "start_time": "2023-05-24T05:25:50.620Z"
   },
   {
    "duration": 2633,
    "start_time": "2023-05-24T05:25:53.466Z"
   },
   {
    "duration": 34,
    "start_time": "2023-05-24T05:25:58.410Z"
   },
   {
    "duration": 15,
    "start_time": "2023-05-24T05:25:59.618Z"
   },
   {
    "duration": 10,
    "start_time": "2023-05-24T05:26:00.730Z"
   },
   {
    "duration": 36,
    "start_time": "2023-05-24T05:26:01.656Z"
   },
   {
    "duration": 237,
    "start_time": "2023-05-24T05:26:02.706Z"
   },
   {
    "duration": 23,
    "start_time": "2023-05-24T05:26:03.655Z"
   },
   {
    "duration": 5,
    "start_time": "2023-05-24T05:26:04.770Z"
   },
   {
    "duration": 2467,
    "start_time": "2023-05-24T05:26:05.970Z"
   },
   {
    "duration": 5,
    "start_time": "2023-05-24T05:26:08.439Z"
   },
   {
    "duration": 2376,
    "start_time": "2023-05-24T05:26:09.577Z"
   },
   {
    "duration": 11,
    "start_time": "2023-05-24T05:26:17.465Z"
   },
   {
    "duration": 35,
    "start_time": "2023-05-24T05:26:19.305Z"
   },
   {
    "duration": 3,
    "start_time": "2023-05-24T05:26:20.177Z"
   },
   {
    "duration": 6551,
    "start_time": "2023-05-24T05:26:27.617Z"
   },
   {
    "duration": 130,
    "start_time": "2023-05-24T05:27:14.200Z"
   },
   {
    "duration": 11,
    "start_time": "2023-05-24T05:27:37.858Z"
   },
   {
    "duration": 21,
    "start_time": "2023-05-24T05:28:40.678Z"
   },
   {
    "duration": 59606,
    "start_time": "2023-05-24T05:29:54.676Z"
   },
   {
    "duration": 19,
    "start_time": "2023-05-24T05:32:59.495Z"
   },
   {
    "duration": 3,
    "start_time": "2023-05-24T05:33:57.878Z"
   },
   {
    "duration": 62277,
    "start_time": "2023-05-24T05:34:31.588Z"
   },
   {
    "duration": 4,
    "start_time": "2023-05-24T05:35:35.761Z"
   },
   {
    "duration": 876162,
    "start_time": "2023-05-24T05:39:34.695Z"
   },
   {
    "duration": 4,
    "start_time": "2023-05-24T05:54:14.587Z"
   },
   {
    "duration": 44,
    "start_time": "2023-05-24T05:56:11.470Z"
   },
   {
    "duration": 14,
    "start_time": "2023-05-24T05:59:03.462Z"
   },
   {
    "duration": 9,
    "start_time": "2023-05-24T06:00:15.858Z"
   },
   {
    "duration": 37,
    "start_time": "2023-05-24T06:01:14.382Z"
   },
   {
    "duration": 1602,
    "start_time": "2023-05-24T06:02:11.970Z"
   },
   {
    "duration": 2240,
    "start_time": "2023-05-24T06:02:13.576Z"
   },
   {
    "duration": 21,
    "start_time": "2023-05-24T06:02:15.817Z"
   },
   {
    "duration": 12,
    "start_time": "2023-05-24T06:02:15.840Z"
   },
   {
    "duration": 8,
    "start_time": "2023-05-24T06:02:15.855Z"
   },
   {
    "duration": 30,
    "start_time": "2023-05-24T06:02:15.864Z"
   },
   {
    "duration": 243,
    "start_time": "2023-05-24T06:02:15.896Z"
   },
   {
    "duration": 18,
    "start_time": "2023-05-24T06:02:16.141Z"
   },
   {
    "duration": 18,
    "start_time": "2023-05-24T06:02:16.160Z"
   },
   {
    "duration": 2144,
    "start_time": "2023-05-24T06:02:16.179Z"
   },
   {
    "duration": 6,
    "start_time": "2023-05-24T06:02:18.324Z"
   },
   {
    "duration": 2283,
    "start_time": "2023-05-24T06:02:18.331Z"
   },
   {
    "duration": 9,
    "start_time": "2023-05-24T06:02:20.616Z"
   },
   {
    "duration": 64,
    "start_time": "2023-05-24T06:02:20.628Z"
   },
   {
    "duration": 21,
    "start_time": "2023-05-24T06:02:20.693Z"
   },
   {
    "duration": 6008,
    "start_time": "2023-05-24T06:02:20.716Z"
   },
   {
    "duration": 55208,
    "start_time": "2023-05-24T06:02:26.725Z"
   },
   {
    "duration": 4,
    "start_time": "2023-05-24T06:03:21.934Z"
   },
   {
    "duration": 873021,
    "start_time": "2023-05-24T06:03:21.939Z"
   },
   {
    "duration": 2,
    "start_time": "2023-05-24T06:17:54.962Z"
   },
   {
    "duration": 65,
    "start_time": "2023-05-24T06:17:54.966Z"
   },
   {
    "duration": 1696,
    "start_time": "2023-05-24T06:24:17.901Z"
   },
   {
    "duration": 2253,
    "start_time": "2023-05-24T06:24:20.485Z"
   },
   {
    "duration": 27,
    "start_time": "2023-05-24T06:24:24.228Z"
   },
   {
    "duration": 12,
    "start_time": "2023-05-24T06:24:25.269Z"
   },
   {
    "duration": 8,
    "start_time": "2023-05-24T06:24:25.892Z"
   },
   {
    "duration": 23,
    "start_time": "2023-05-24T06:24:26.197Z"
   },
   {
    "duration": 214,
    "start_time": "2023-05-24T06:24:27.861Z"
   },
   {
    "duration": 21,
    "start_time": "2023-05-24T06:24:28.532Z"
   },
   {
    "duration": 5,
    "start_time": "2023-05-24T06:24:29.346Z"
   },
   {
    "duration": 2414,
    "start_time": "2023-05-24T06:24:30.108Z"
   },
   {
    "duration": 7,
    "start_time": "2023-05-24T06:24:32.524Z"
   },
   {
    "duration": 2646,
    "start_time": "2023-05-24T06:24:33.572Z"
   },
   {
    "duration": 13,
    "start_time": "2023-05-24T06:24:37.292Z"
   },
   {
    "duration": 34,
    "start_time": "2023-05-24T06:24:39.739Z"
   },
   {
    "duration": 4,
    "start_time": "2023-05-24T06:24:41.117Z"
   },
   {
    "duration": 6505,
    "start_time": "2023-05-24T06:24:41.780Z"
   },
   {
    "duration": 58643,
    "start_time": "2023-05-24T06:24:50.715Z"
   },
   {
    "duration": 3,
    "start_time": "2023-05-24T06:25:52.610Z"
   },
   {
    "duration": 44,
    "start_time": "2023-05-24T06:25:57.238Z"
   },
   {
    "duration": 118,
    "start_time": "2023-05-24T06:25:58.444Z"
   },
   {
    "duration": 1675,
    "start_time": "2023-05-24T06:30:18.116Z"
   },
   {
    "duration": 2226,
    "start_time": "2023-05-24T06:30:19.793Z"
   },
   {
    "duration": 25,
    "start_time": "2023-05-24T06:30:23.523Z"
   },
   {
    "duration": 15,
    "start_time": "2023-05-24T06:30:24.330Z"
   },
   {
    "duration": 11,
    "start_time": "2023-05-24T06:30:25.125Z"
   },
   {
    "duration": 25,
    "start_time": "2023-05-24T06:30:25.342Z"
   },
   {
    "duration": 220,
    "start_time": "2023-05-24T06:30:25.722Z"
   },
   {
    "duration": 26,
    "start_time": "2023-05-24T06:30:26.167Z"
   },
   {
    "duration": 5,
    "start_time": "2023-05-24T06:30:26.540Z"
   },
   {
    "duration": 2267,
    "start_time": "2023-05-24T06:30:26.922Z"
   },
   {
    "duration": 5,
    "start_time": "2023-05-24T06:30:29.191Z"
   },
   {
    "duration": 2327,
    "start_time": "2023-05-24T06:30:29.197Z"
   },
   {
    "duration": 9,
    "start_time": "2023-05-24T06:30:32.595Z"
   },
   {
    "duration": 30,
    "start_time": "2023-05-24T06:30:33.963Z"
   },
   {
    "duration": 3,
    "start_time": "2023-05-24T06:30:34.714Z"
   },
   {
    "duration": 5803,
    "start_time": "2023-05-24T06:30:38.018Z"
   },
   {
    "duration": 50,
    "start_time": "2023-05-24T06:30:48.882Z"
   },
   {
    "duration": 3,
    "start_time": "2023-05-24T06:31:27.771Z"
   },
   {
    "duration": 1627,
    "start_time": "2023-05-24T06:31:40.588Z"
   },
   {
    "duration": 2347,
    "start_time": "2023-05-24T06:31:42.217Z"
   },
   {
    "duration": 26,
    "start_time": "2023-05-24T06:31:44.566Z"
   },
   {
    "duration": 12,
    "start_time": "2023-05-24T06:31:44.594Z"
   },
   {
    "duration": 7,
    "start_time": "2023-05-24T06:31:44.608Z"
   },
   {
    "duration": 25,
    "start_time": "2023-05-24T06:31:44.617Z"
   },
   {
    "duration": 257,
    "start_time": "2023-05-24T06:31:44.644Z"
   },
   {
    "duration": 21,
    "start_time": "2023-05-24T06:31:44.903Z"
   },
   {
    "duration": 21,
    "start_time": "2023-05-24T06:31:44.925Z"
   },
   {
    "duration": 2314,
    "start_time": "2023-05-24T06:31:44.948Z"
   },
   {
    "duration": 5,
    "start_time": "2023-05-24T06:31:47.264Z"
   },
   {
    "duration": 2255,
    "start_time": "2023-05-24T06:31:47.270Z"
   },
   {
    "duration": 8,
    "start_time": "2023-05-24T06:31:49.527Z"
   },
   {
    "duration": 35,
    "start_time": "2023-05-24T06:31:49.537Z"
   },
   {
    "duration": 3,
    "start_time": "2023-05-24T06:31:49.573Z"
   },
   {
    "duration": 5987,
    "start_time": "2023-05-24T06:31:49.584Z"
   },
   {
    "duration": 55474,
    "start_time": "2023-05-24T06:31:55.572Z"
   },
   {
    "duration": 3,
    "start_time": "2023-05-24T06:32:51.050Z"
   },
   {
    "duration": 879243,
    "start_time": "2023-05-24T06:32:51.054Z"
   },
   {
    "duration": 3,
    "start_time": "2023-05-24T06:47:30.299Z"
   },
   {
    "duration": 44,
    "start_time": "2023-05-24T06:47:30.304Z"
   },
   {
    "duration": 51,
    "start_time": "2023-05-24T06:47:30.350Z"
   },
   {
    "duration": 2,
    "start_time": "2023-05-24T06:47:41.213Z"
   },
   {
    "duration": 117,
    "start_time": "2023-05-24T06:47:42.614Z"
   },
   {
    "duration": 2311,
    "start_time": "2023-05-24T06:47:50.405Z"
   },
   {
    "duration": 1185941,
    "start_time": "2023-05-24T06:48:22.771Z"
   },
   {
    "duration": 3,
    "start_time": "2023-05-24T07:30:13.065Z"
   },
   {
    "duration": 259,
    "start_time": "2023-05-24T07:36:26.071Z"
   },
   {
    "duration": 12,
    "start_time": "2023-05-24T07:37:23.201Z"
   },
   {
    "duration": 4,
    "start_time": "2023-05-24T07:37:23.554Z"
   },
   {
    "duration": 1863,
    "start_time": "2023-05-24T07:38:01.859Z"
   },
   {
    "duration": 1666,
    "start_time": "2023-05-24T07:38:12.158Z"
   },
   {
    "duration": 2277,
    "start_time": "2023-05-24T07:38:13.826Z"
   },
   {
    "duration": 32,
    "start_time": "2023-05-24T07:38:16.105Z"
   },
   {
    "duration": 16,
    "start_time": "2023-05-24T07:38:16.139Z"
   },
   {
    "duration": 25,
    "start_time": "2023-05-24T07:38:16.157Z"
   },
   {
    "duration": 41,
    "start_time": "2023-05-24T07:38:16.184Z"
   },
   {
    "duration": 236,
    "start_time": "2023-05-24T07:38:16.227Z"
   },
   {
    "duration": 25,
    "start_time": "2023-05-24T07:38:16.464Z"
   },
   {
    "duration": 18,
    "start_time": "2023-05-24T07:38:16.490Z"
   },
   {
    "duration": 2312,
    "start_time": "2023-05-24T07:38:16.511Z"
   },
   {
    "duration": 5,
    "start_time": "2023-05-24T07:38:18.824Z"
   },
   {
    "duration": 2428,
    "start_time": "2023-05-24T07:38:18.831Z"
   },
   {
    "duration": 9,
    "start_time": "2023-05-24T07:38:21.260Z"
   },
   {
    "duration": 33,
    "start_time": "2023-05-24T07:38:21.270Z"
   },
   {
    "duration": 4,
    "start_time": "2023-05-24T07:38:21.304Z"
   },
   {
    "duration": 6216,
    "start_time": "2023-05-24T07:38:21.310Z"
   },
   {
    "duration": 56679,
    "start_time": "2023-05-24T07:38:27.528Z"
   },
   {
    "duration": 4,
    "start_time": "2023-05-24T07:39:24.208Z"
   },
   {
    "duration": 974151,
    "start_time": "2023-05-24T07:39:24.214Z"
   },
   {
    "duration": 3,
    "start_time": "2023-05-24T07:55:38.367Z"
   },
   {
    "duration": 23,
    "start_time": "2023-05-24T07:55:38.371Z"
   },
   {
    "duration": 1249120,
    "start_time": "2023-05-24T07:55:38.395Z"
   },
   {
    "duration": 3,
    "start_time": "2023-05-24T08:16:27.516Z"
   },
   {
    "duration": 18,
    "start_time": "2023-05-24T08:16:27.521Z"
   },
   {
    "duration": 22,
    "start_time": "2023-05-24T08:16:27.540Z"
   },
   {
    "duration": 10,
    "start_time": "2023-05-24T08:16:27.563Z"
   },
   {
    "duration": 2,
    "start_time": "2023-05-24T08:25:27.059Z"
   },
   {
    "duration": 120,
    "start_time": "2023-05-24T08:28:58.467Z"
   },
   {
    "duration": 230712,
    "start_time": "2023-05-24T08:29:12.718Z"
   },
   {
    "duration": 3,
    "start_time": "2023-05-24T08:33:59.799Z"
   },
   {
    "duration": 2144,
    "start_time": "2023-05-24T08:39:25.555Z"
   },
   {
    "duration": 1264,
    "start_time": "2023-05-24T08:48:05.663Z"
   },
   {
    "duration": 179,
    "start_time": "2023-05-24T08:48:59.454Z"
   },
   {
    "duration": 135,
    "start_time": "2023-05-24T08:54:07.862Z"
   },
   {
    "duration": 2,
    "start_time": "2023-05-24T08:57:12.360Z"
   },
   {
    "duration": 4,
    "start_time": "2023-05-24T08:57:30.615Z"
   },
   {
    "duration": 7,
    "start_time": "2023-05-24T08:58:40.318Z"
   },
   {
    "duration": 5,
    "start_time": "2023-05-24T08:59:10.289Z"
   },
   {
    "duration": 24,
    "start_time": "2023-05-24T08:59:21.363Z"
   },
   {
    "duration": 2,
    "start_time": "2023-05-24T08:59:38.266Z"
   },
   {
    "duration": 125,
    "start_time": "2023-05-24T08:59:38.773Z"
   },
   {
    "duration": 4,
    "start_time": "2023-05-24T09:03:47.404Z"
   },
   {
    "duration": 7,
    "start_time": "2023-05-24T09:03:48.213Z"
   },
   {
    "duration": 4,
    "start_time": "2023-05-24T09:03:48.893Z"
   },
   {
    "duration": 149,
    "start_time": "2023-05-24T09:03:49.701Z"
   },
   {
    "duration": 4,
    "start_time": "2023-05-24T09:03:59.965Z"
   },
   {
    "duration": 5,
    "start_time": "2023-05-24T09:04:00.701Z"
   },
   {
    "duration": 3,
    "start_time": "2023-05-24T09:04:01.109Z"
   },
   {
    "duration": 164,
    "start_time": "2023-05-24T09:04:01.358Z"
   },
   {
    "duration": 2199,
    "start_time": "2023-05-25T08:13:04.660Z"
   },
   {
    "duration": 3319,
    "start_time": "2023-05-25T08:13:08.569Z"
   },
   {
    "duration": 33,
    "start_time": "2023-05-25T08:13:12.672Z"
   },
   {
    "duration": 11,
    "start_time": "2023-05-25T08:13:16.001Z"
   },
   {
    "duration": 10,
    "start_time": "2023-05-25T08:13:16.712Z"
   },
   {
    "duration": 28,
    "start_time": "2023-05-25T08:13:17.449Z"
   },
   {
    "duration": 218,
    "start_time": "2023-05-25T08:13:18.895Z"
   },
   {
    "duration": 27,
    "start_time": "2023-05-25T08:13:20.079Z"
   },
   {
    "duration": 5,
    "start_time": "2023-05-25T08:13:22.809Z"
   },
   {
    "duration": 2142,
    "start_time": "2023-05-25T08:13:27.249Z"
   },
   {
    "duration": 5,
    "start_time": "2023-05-25T08:13:29.393Z"
   },
   {
    "duration": 29,
    "start_time": "2023-05-25T08:13:32.239Z"
   },
   {
    "duration": 310,
    "start_time": "2023-05-25T08:13:45.336Z"
   },
   {
    "duration": 482,
    "start_time": "2023-05-25T08:14:00.271Z"
   },
   {
    "duration": 3,
    "start_time": "2023-05-25T08:14:10.455Z"
   },
   {
    "duration": 4,
    "start_time": "2023-05-25T08:15:26.222Z"
   },
   {
    "duration": 1201,
    "start_time": "2023-05-25T08:15:38.028Z"
   },
   {
    "duration": 180,
    "start_time": "2023-05-25T08:17:46.706Z"
   },
   {
    "duration": 50,
    "start_time": "2023-05-25T08:18:10.489Z"
   },
   {
    "duration": 1032067,
    "start_time": "2023-05-25T08:18:11.312Z"
   },
   {
    "duration": 4,
    "start_time": "2023-05-25T08:35:43.621Z"
   },
   {
    "duration": 4,
    "start_time": "2023-05-25T08:35:57.932Z"
   },
   {
    "duration": 4,
    "start_time": "2023-05-25T08:36:04.004Z"
   },
   {
    "duration": 3,
    "start_time": "2023-05-25T08:36:11.380Z"
   },
   {
    "duration": 4,
    "start_time": "2023-05-25T08:36:20.315Z"
   },
   {
    "duration": 4,
    "start_time": "2023-05-25T08:36:24.085Z"
   },
   {
    "duration": 12,
    "start_time": "2023-05-25T08:36:30.188Z"
   },
   {
    "duration": 40,
    "start_time": "2023-05-25T08:36:35.179Z"
   },
   {
    "duration": 4,
    "start_time": "2023-05-25T08:36:35.707Z"
   },
   {
    "duration": 6764,
    "start_time": "2023-05-25T08:36:36.843Z"
   },
   {
    "duration": 68154,
    "start_time": "2023-05-25T08:37:24.218Z"
   },
   {
    "duration": 4,
    "start_time": "2023-05-25T08:38:33.577Z"
   },
   {
    "duration": 822917,
    "start_time": "2023-05-25T08:38:36.623Z"
   },
   {
    "duration": 4,
    "start_time": "2023-05-25T08:55:03.071Z"
   },
   {
    "duration": 1288319,
    "start_time": "2023-05-25T08:55:04.806Z"
   },
   {
    "duration": 4,
    "start_time": "2023-05-25T09:39:07.414Z"
   },
   {
    "duration": 290549,
    "start_time": "2023-05-25T09:39:12.670Z"
   },
   {
    "duration": 3,
    "start_time": "2023-05-25T09:44:08.534Z"
   },
   {
    "duration": 2684,
    "start_time": "2023-05-25T09:44:11.999Z"
   },
   {
    "duration": 4,
    "start_time": "2023-05-25T09:45:06.924Z"
   },
   {
    "duration": 3,
    "start_time": "2023-05-25T09:45:29.676Z"
   },
   {
    "duration": 14,
    "start_time": "2023-05-25T09:45:46.556Z"
   },
   {
    "duration": 9,
    "start_time": "2023-05-25T09:49:52.373Z"
   },
   {
    "duration": 10,
    "start_time": "2023-05-25T09:50:07.397Z"
   },
   {
    "duration": 12,
    "start_time": "2023-05-25T09:50:27.404Z"
   },
   {
    "duration": 9,
    "start_time": "2023-05-25T09:50:44.636Z"
   },
   {
    "duration": 3,
    "start_time": "2023-05-25T09:54:37.886Z"
   },
   {
    "duration": 5,
    "start_time": "2023-05-25T09:55:09.020Z"
   },
   {
    "duration": 4,
    "start_time": "2023-05-25T09:55:39.036Z"
   },
   {
    "duration": 19,
    "start_time": "2023-05-25T09:55:39.915Z"
   },
   {
    "duration": 9,
    "start_time": "2023-05-25T09:57:31.450Z"
   },
   {
    "duration": 9,
    "start_time": "2023-05-25T09:58:23.663Z"
   },
   {
    "duration": 2490,
    "start_time": "2023-05-25T10:00:21.883Z"
   },
   {
    "duration": 2591,
    "start_time": "2023-05-25T10:00:48.191Z"
   },
   {
    "duration": 5,
    "start_time": "2023-05-25T10:01:57.633Z"
   },
   {
    "duration": 8,
    "start_time": "2023-05-25T10:02:13.028Z"
   },
   {
    "duration": 6,
    "start_time": "2023-05-25T10:02:23.328Z"
   },
   {
    "duration": 180,
    "start_time": "2023-05-25T10:02:24.072Z"
   }
  ],
  "kernelspec": {
   "display_name": "Python 3 (ipykernel)",
   "language": "python",
   "name": "python3"
  },
  "language_info": {
   "codemirror_mode": {
    "name": "ipython",
    "version": 3
   },
   "file_extension": ".py",
   "mimetype": "text/x-python",
   "name": "python",
   "nbconvert_exporter": "python",
   "pygments_lexer": "ipython3",
   "version": "3.9.13"
  },
  "toc": {
   "base_numbering": 1,
   "nav_menu": {},
   "number_sections": true,
   "sideBar": true,
   "skip_h1_title": true,
   "title_cell": "Содержание",
   "title_sidebar": "Contents",
   "toc_cell": true,
   "toc_position": {
    "height": "calc(100% - 180px)",
    "left": "10px",
    "top": "150px",
    "width": "302.391px"
   },
   "toc_section_display": true,
   "toc_window_display": false
  }
 },
 "nbformat": 4,
 "nbformat_minor": 2
}
